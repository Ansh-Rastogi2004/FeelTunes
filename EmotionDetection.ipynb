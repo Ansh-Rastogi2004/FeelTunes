{
  "nbformat": 4,
  "nbformat_minor": 0,
  "metadata": {
    "colab": {
      "provenance": [],
      "authorship_tag": "ABX9TyNlfLucGtyGMq/sMOwKLO4O",
      "include_colab_link": true
    },
    "kernelspec": {
      "name": "python3",
      "display_name": "Python 3"
    },
    "language_info": {
      "name": "python"
    },
    "accelerator": "GPU",
    "gpuClass": "standard"
  },
  "cells": [
    {
      "cell_type": "markdown",
      "metadata": {
        "id": "view-in-github",
        "colab_type": "text"
      },
      "source": [
        "<a href=\"https://colab.research.google.com/github/dhruvchopra2003/FeelTunes/blob/main/EmotionDetection.ipynb\" target=\"_parent\"><img src=\"https://colab.research.google.com/assets/colab-badge.svg\" alt=\"Open In Colab\"/></a>"
      ]
    },
    {
      "cell_type": "code",
      "source": [
        "from google.colab import drive\n",
        "drive.mount('/content/gdrive')"
      ],
      "metadata": {
        "colab": {
          "base_uri": "https://localhost:8080/"
        },
        "id": "DRHhFJ7RmMAW",
        "outputId": "73ad8dff-e0ec-4e16-965a-5d500315d8f8"
      },
      "execution_count": null,
      "outputs": [
        {
          "output_type": "stream",
          "name": "stdout",
          "text": [
            "Drive already mounted at /content/gdrive; to attempt to forcibly remount, call drive.mount(\"/content/gdrive\", force_remount=True).\n"
          ]
        }
      ]
    },
    {
      "cell_type": "code",
      "execution_count": null,
      "metadata": {
        "colab": {
          "base_uri": "https://localhost:8080/"
        },
        "id": "f2gHRzWUkG8K",
        "outputId": "307d246f-d7e8-4f7b-feaa-8d65e2b71d24"
      },
      "outputs": [
        {
          "output_type": "stream",
          "name": "stdout",
          "text": [
            "Mon Apr 10 19:09:33 2023       \n",
            "+-----------------------------------------------------------------------------+\n",
            "| NVIDIA-SMI 525.85.12    Driver Version: 525.85.12    CUDA Version: 12.0     |\n",
            "|-------------------------------+----------------------+----------------------+\n",
            "| GPU  Name        Persistence-M| Bus-Id        Disp.A | Volatile Uncorr. ECC |\n",
            "| Fan  Temp  Perf  Pwr:Usage/Cap|         Memory-Usage | GPU-Util  Compute M. |\n",
            "|                               |                      |               MIG M. |\n",
            "|===============================+======================+======================|\n",
            "|   0  Tesla T4            Off  | 00000000:00:04.0 Off |                    0 |\n",
            "| N/A   49C    P8    12W /  70W |      0MiB / 15360MiB |      0%      Default |\n",
            "|                               |                      |                  N/A |\n",
            "+-------------------------------+----------------------+----------------------+\n",
            "                                                                               \n",
            "+-----------------------------------------------------------------------------+\n",
            "| Processes:                                                                  |\n",
            "|  GPU   GI   CI        PID   Type   Process name                  GPU Memory |\n",
            "|        ID   ID                                                   Usage      |\n",
            "|=============================================================================|\n",
            "|  No running processes found                                                 |\n",
            "+-----------------------------------------------------------------------------+\n"
          ]
        }
      ],
      "source": [
        "!nvidia-smi"
      ]
    },
    {
      "cell_type": "code",
      "source": [
        "!unzip '/content/gdrive/MyDrive/Project_1/archive(5).zip' -d /content"
      ],
      "metadata": {
        "id": "f1c_wb3FkQbI"
      },
      "execution_count": null,
      "outputs": []
    },
    {
      "cell_type": "code",
      "source": [
        "from keras.models import Sequential\n",
        "from keras.layers import Conv2D, MaxPooling2D, Dense, Dropout, Flatten\n",
        "from keras.optimizers import Adam\n",
        "from keras.preprocessing.image import ImageDataGenerator\n",
        "import tensorflow as tf"
      ],
      "metadata": {
        "id": "ZGaPWS7yk8GT"
      },
      "execution_count": null,
      "outputs": []
    },
    {
      "cell_type": "code",
      "source": [
        "# initialize data generator with rescaling\n",
        "train_data_gen = ImageDataGenerator(rescale=1./255)\n",
        "validation_data_gen = ImageDataGenerator(rescale=1./255)"
      ],
      "metadata": {
        "id": "cV4Xjw2Ok8xH"
      },
      "execution_count": null,
      "outputs": []
    },
    {
      "cell_type": "code",
      "source": [
        "# Preprocessing all test data\n",
        "train_generator = train_data_gen.flow_from_directory(\n",
        "    '/content/train',\n",
        "    target_size = (48,48),\n",
        "    batch_size = 64,\n",
        "    color_mode = \"grayscale\",\n",
        "    class_mode = 'categorical')"
      ],
      "metadata": {
        "colab": {
          "base_uri": "https://localhost:8080/"
        },
        "id": "1eOJ2qRuk_3w",
        "outputId": "96c70931-c18a-4bd9-81d0-4f7fe8ce1f61"
      },
      "execution_count": null,
      "outputs": [
        {
          "output_type": "stream",
          "name": "stdout",
          "text": [
            "Found 28709 images belonging to 7 classes.\n"
          ]
        }
      ]
    },
    {
      "cell_type": "code",
      "source": [
        "# Preprocess all training images\n",
        "validation_generator = validation_data_gen.flow_from_directory(\n",
        "    '/content/test',\n",
        "    target_size = (48,48), # setting input shape to 48,48\n",
        "    batch_size = 64, \n",
        "    color_mode = \"grayscale\", # setting color as 1 (grayscale)\n",
        "    class_mode = 'categorical')"
      ],
      "metadata": {
        "colab": {
          "base_uri": "https://localhost:8080/"
        },
        "id": "w2x4w9ntlAur",
        "outputId": "521c7847-f1b8-489e-d669-2aae1b38aede"
      },
      "execution_count": null,
      "outputs": [
        {
          "output_type": "stream",
          "name": "stdout",
          "text": [
            "Found 7178 images belonging to 7 classes.\n"
          ]
        }
      ]
    },
    {
      "cell_type": "code",
      "source": [
        "# Create model structure\n",
        "emotion_model = Sequential()\n",
        "\n",
        "emotion_model.add(Conv2D(32, kernel_size=(3,3), activation= 'relu', input_shape=(48,48,1))) #input_shape: 48,48 & grayscale\n",
        "emotion_model.add(Conv2D(64, kernel_size=(3, 3), activation='relu'))\n",
        "emotion_model.add(MaxPooling2D(pool_size=(2, 2)))\n",
        "emotion_model.add(Dropout(0.25)) # to avoid overfitting\n",
        "\n",
        "emotion_model.add(Conv2D(128, kernel_size=(3, 3), activation='relu'))\n",
        "emotion_model.add(MaxPooling2D(pool_size=(2, 2)))\n",
        "emotion_model.add(Conv2D(128, kernel_size=(3, 3), activation='relu'))\n",
        "emotion_model.add(MaxPooling2D(pool_size=(2, 2)))\n",
        "emotion_model.add(Dropout(0.25)) #to avoid overfitting\n",
        "\n",
        "emotion_model.add(Flatten())\n",
        "emotion_model.add(Dense(1024, activation='relu'))\n",
        "emotion_model.add(Dropout(0.5))\n",
        "emotion_model.add(Dense(7, activation='softmax'))\n",
        "# in the final dense layer, the 7 outputs are the 7 categories, outputted with softmax"
      ],
      "metadata": {
        "id": "C17ddgWElESx"
      },
      "execution_count": null,
      "outputs": []
    },
    {
      "cell_type": "code",
      "source": [
        "emotion_model.compile(loss = 'categorical_crossentropy', optimizer=Adam(learning_rate=0.0001, decay=1e-6), metrics=['accuracy'])"
      ],
      "metadata": {
        "id": "XlNNhM4tlF7R"
      },
      "execution_count": null,
      "outputs": []
    },
    {
      "cell_type": "code",
      "source": [
        "emotion_model.summary()"
      ],
      "metadata": {
        "colab": {
          "base_uri": "https://localhost:8080/"
        },
        "id": "ED0Cb8tUlGe1",
        "outputId": "17104409-96b5-44b5-b748-42b328504e6a"
      },
      "execution_count": null,
      "outputs": [
        {
          "output_type": "stream",
          "name": "stdout",
          "text": [
            "Model: \"sequential\"\n",
            "_________________________________________________________________\n",
            " Layer (type)                Output Shape              Param #   \n",
            "=================================================================\n",
            " conv2d (Conv2D)             (None, 46, 46, 32)        320       \n",
            "                                                                 \n",
            " conv2d_1 (Conv2D)           (None, 44, 44, 64)        18496     \n",
            "                                                                 \n",
            " max_pooling2d (MaxPooling2D  (None, 22, 22, 64)       0         \n",
            " )                                                               \n",
            "                                                                 \n",
            " dropout (Dropout)           (None, 22, 22, 64)        0         \n",
            "                                                                 \n",
            " conv2d_2 (Conv2D)           (None, 20, 20, 128)       73856     \n",
            "                                                                 \n",
            " max_pooling2d_1 (MaxPooling  (None, 10, 10, 128)      0         \n",
            " 2D)                                                             \n",
            "                                                                 \n",
            " conv2d_3 (Conv2D)           (None, 8, 8, 128)         147584    \n",
            "                                                                 \n",
            " max_pooling2d_2 (MaxPooling  (None, 4, 4, 128)        0         \n",
            " 2D)                                                             \n",
            "                                                                 \n",
            " dropout_1 (Dropout)         (None, 4, 4, 128)         0         \n",
            "                                                                 \n",
            " flatten (Flatten)           (None, 2048)              0         \n",
            "                                                                 \n",
            " dense (Dense)               (None, 1024)              2098176   \n",
            "                                                                 \n",
            " dropout_2 (Dropout)         (None, 1024)              0         \n",
            "                                                                 \n",
            " dense_1 (Dense)             (None, 7)                 7175      \n",
            "                                                                 \n",
            "=================================================================\n",
            "Total params: 2,345,607\n",
            "Trainable params: 2,345,607\n",
            "Non-trainable params: 0\n",
            "_________________________________________________________________\n"
          ]
        }
      ]
    },
    {
      "cell_type": "code",
      "source": [
        "# Train the neural network/model\n",
        "emotion_model_info = emotion_model.fit_generator(\n",
        "        train_generator,\n",
        "        steps_per_epoch=28709 // 64,\n",
        "        epochs=50,\n",
        "        validation_data=validation_generator,\n",
        "        validation_steps=7178 // 64)"
      ],
      "metadata": {
        "colab": {
          "base_uri": "https://localhost:8080/"
        },
        "id": "F68Ex8J_lJSE",
        "outputId": "696044b1-145f-44d4-d049-3038263b6ee1"
      },
      "execution_count": null,
      "outputs": [
        {
          "output_type": "stream",
          "name": "stdout",
          "text": [
            "Epoch 1/50\n"
          ]
        },
        {
          "output_type": "stream",
          "name": "stderr",
          "text": [
            "<ipython-input-15-ae419f95bfec>:2: UserWarning: `Model.fit_generator` is deprecated and will be removed in a future version. Please use `Model.fit`, which supports generators.\n",
            "  emotion_model_info = emotion_model.fit_generator(\n"
          ]
        },
        {
          "output_type": "stream",
          "name": "stdout",
          "text": [
            "448/448 [==============================] - 29s 47ms/step - loss: 1.8018 - accuracy: 0.2610 - val_loss: 1.7251 - val_accuracy: 0.3149\n",
            "Epoch 2/50\n",
            "448/448 [==============================] - 20s 45ms/step - loss: 1.6405 - accuracy: 0.3579 - val_loss: 1.5548 - val_accuracy: 0.4134\n",
            "Epoch 3/50\n",
            "448/448 [==============================] - 17s 39ms/step - loss: 1.5249 - accuracy: 0.4135 - val_loss: 1.4525 - val_accuracy: 0.4487\n",
            "Epoch 4/50\n",
            "448/448 [==============================] - 20s 45ms/step - loss: 1.4429 - accuracy: 0.4489 - val_loss: 1.4119 - val_accuracy: 0.4616\n",
            "Epoch 5/50\n",
            "448/448 [==============================] - 17s 39ms/step - loss: 1.3793 - accuracy: 0.4749 - val_loss: 1.3318 - val_accuracy: 0.4954\n",
            "Epoch 6/50\n",
            "448/448 [==============================] - 17s 39ms/step - loss: 1.3234 - accuracy: 0.4974 - val_loss: 1.3154 - val_accuracy: 0.4987\n",
            "Epoch 7/50\n",
            "448/448 [==============================] - 20s 45ms/step - loss: 1.2866 - accuracy: 0.5113 - val_loss: 1.2684 - val_accuracy: 0.5159\n",
            "Epoch 8/50\n",
            "448/448 [==============================] - 18s 40ms/step - loss: 1.2467 - accuracy: 0.5308 - val_loss: 1.2386 - val_accuracy: 0.5285\n",
            "Epoch 9/50\n",
            "448/448 [==============================] - 20s 45ms/step - loss: 1.2113 - accuracy: 0.5450 - val_loss: 1.2042 - val_accuracy: 0.5398\n",
            "Epoch 10/50\n",
            "448/448 [==============================] - 19s 42ms/step - loss: 1.1847 - accuracy: 0.5534 - val_loss: 1.1859 - val_accuracy: 0.5458\n",
            "Epoch 11/50\n",
            "448/448 [==============================] - 20s 45ms/step - loss: 1.1578 - accuracy: 0.5650 - val_loss: 1.1739 - val_accuracy: 0.5498\n",
            "Epoch 12/50\n",
            "448/448 [==============================] - 20s 45ms/step - loss: 1.1295 - accuracy: 0.5777 - val_loss: 1.1681 - val_accuracy: 0.5513\n",
            "Epoch 13/50\n",
            "448/448 [==============================] - 20s 45ms/step - loss: 1.1041 - accuracy: 0.5855 - val_loss: 1.1403 - val_accuracy: 0.5643\n",
            "Epoch 14/50\n",
            "448/448 [==============================] - 18s 39ms/step - loss: 1.0725 - accuracy: 0.5979 - val_loss: 1.1355 - val_accuracy: 0.5614\n",
            "Epoch 15/50\n",
            "448/448 [==============================] - 20s 45ms/step - loss: 1.0495 - accuracy: 0.6091 - val_loss: 1.1128 - val_accuracy: 0.5811\n",
            "Epoch 16/50\n",
            "448/448 [==============================] - 20s 46ms/step - loss: 1.0302 - accuracy: 0.6144 - val_loss: 1.1189 - val_accuracy: 0.5763\n",
            "Epoch 17/50\n",
            "448/448 [==============================] - 20s 45ms/step - loss: 1.0028 - accuracy: 0.6271 - val_loss: 1.1018 - val_accuracy: 0.5840\n",
            "Epoch 18/50\n",
            "448/448 [==============================] - 21s 46ms/step - loss: 0.9844 - accuracy: 0.6359 - val_loss: 1.0961 - val_accuracy: 0.5882\n",
            "Epoch 19/50\n",
            "448/448 [==============================] - 19s 42ms/step - loss: 0.9586 - accuracy: 0.6455 - val_loss: 1.1123 - val_accuracy: 0.5864\n",
            "Epoch 20/50\n",
            "448/448 [==============================] - 18s 40ms/step - loss: 0.9361 - accuracy: 0.6537 - val_loss: 1.0962 - val_accuracy: 0.5850\n",
            "Epoch 21/50\n",
            "448/448 [==============================] - 20s 45ms/step - loss: 0.9143 - accuracy: 0.6644 - val_loss: 1.0900 - val_accuracy: 0.5917\n",
            "Epoch 22/50\n",
            "448/448 [==============================] - 20s 45ms/step - loss: 0.8919 - accuracy: 0.6695 - val_loss: 1.0797 - val_accuracy: 0.6002\n",
            "Epoch 23/50\n",
            "448/448 [==============================] - 18s 39ms/step - loss: 0.8710 - accuracy: 0.6801 - val_loss: 1.0724 - val_accuracy: 0.5979\n",
            "Epoch 24/50\n",
            "448/448 [==============================] - 18s 39ms/step - loss: 0.8412 - accuracy: 0.6886 - val_loss: 1.0729 - val_accuracy: 0.6031\n",
            "Epoch 25/50\n",
            "448/448 [==============================] - 20s 45ms/step - loss: 0.8204 - accuracy: 0.7001 - val_loss: 1.0828 - val_accuracy: 0.6009\n",
            "Epoch 26/50\n",
            "448/448 [==============================] - 20s 46ms/step - loss: 0.8094 - accuracy: 0.7052 - val_loss: 1.0690 - val_accuracy: 0.6080\n",
            "Epoch 27/50\n",
            "448/448 [==============================] - 21s 46ms/step - loss: 0.7766 - accuracy: 0.7166 - val_loss: 1.0803 - val_accuracy: 0.6090\n",
            "Epoch 28/50\n",
            "448/448 [==============================] - 20s 45ms/step - loss: 0.7613 - accuracy: 0.7186 - val_loss: 1.0693 - val_accuracy: 0.6131\n",
            "Epoch 29/50\n",
            "448/448 [==============================] - 20s 45ms/step - loss: 0.7319 - accuracy: 0.7339 - val_loss: 1.0857 - val_accuracy: 0.6092\n",
            "Epoch 30/50\n",
            "448/448 [==============================] - 20s 45ms/step - loss: 0.7118 - accuracy: 0.7381 - val_loss: 1.0877 - val_accuracy: 0.6147\n",
            "Epoch 31/50\n",
            "448/448 [==============================] - 20s 45ms/step - loss: 0.6963 - accuracy: 0.7440 - val_loss: 1.0702 - val_accuracy: 0.6152\n",
            "Epoch 32/50\n",
            "448/448 [==============================] - 18s 40ms/step - loss: 0.6658 - accuracy: 0.7591 - val_loss: 1.0798 - val_accuracy: 0.6196\n",
            "Epoch 33/50\n",
            "448/448 [==============================] - 18s 40ms/step - loss: 0.6483 - accuracy: 0.7652 - val_loss: 1.0987 - val_accuracy: 0.6173\n",
            "Epoch 34/50\n",
            "448/448 [==============================] - 18s 39ms/step - loss: 0.6277 - accuracy: 0.7722 - val_loss: 1.0810 - val_accuracy: 0.6147\n",
            "Epoch 35/50\n",
            "448/448 [==============================] - 19s 41ms/step - loss: 0.6111 - accuracy: 0.7774 - val_loss: 1.0841 - val_accuracy: 0.6148\n",
            "Epoch 36/50\n",
            "448/448 [==============================] - 20s 45ms/step - loss: 0.5860 - accuracy: 0.7887 - val_loss: 1.1055 - val_accuracy: 0.6166\n",
            "Epoch 37/50\n",
            "448/448 [==============================] - 20s 45ms/step - loss: 0.5666 - accuracy: 0.7945 - val_loss: 1.0982 - val_accuracy: 0.6207\n",
            "Epoch 38/50\n",
            "448/448 [==============================] - 18s 40ms/step - loss: 0.5504 - accuracy: 0.8003 - val_loss: 1.1091 - val_accuracy: 0.6243\n",
            "Epoch 39/50\n",
            "448/448 [==============================] - 20s 45ms/step - loss: 0.5289 - accuracy: 0.8104 - val_loss: 1.1161 - val_accuracy: 0.6230\n",
            "Epoch 40/50\n",
            "448/448 [==============================] - 20s 45ms/step - loss: 0.5125 - accuracy: 0.8117 - val_loss: 1.1130 - val_accuracy: 0.6236\n",
            "Epoch 41/50\n",
            "448/448 [==============================] - 20s 44ms/step - loss: 0.5007 - accuracy: 0.8194 - val_loss: 1.1271 - val_accuracy: 0.6246\n",
            "Epoch 42/50\n",
            "448/448 [==============================] - 20s 45ms/step - loss: 0.4821 - accuracy: 0.8243 - val_loss: 1.1554 - val_accuracy: 0.6232\n",
            "Epoch 43/50\n",
            "448/448 [==============================] - 17s 39ms/step - loss: 0.4663 - accuracy: 0.8303 - val_loss: 1.1685 - val_accuracy: 0.6212\n",
            "Epoch 44/50\n",
            "448/448 [==============================] - 18s 39ms/step - loss: 0.4463 - accuracy: 0.8397 - val_loss: 1.1588 - val_accuracy: 0.6180\n",
            "Epoch 45/50\n",
            "448/448 [==============================] - 20s 44ms/step - loss: 0.4423 - accuracy: 0.8399 - val_loss: 1.1740 - val_accuracy: 0.6246\n",
            "Epoch 46/50\n",
            "448/448 [==============================] - 20s 45ms/step - loss: 0.4241 - accuracy: 0.8471 - val_loss: 1.1694 - val_accuracy: 0.6296\n",
            "Epoch 47/50\n",
            "448/448 [==============================] - 20s 45ms/step - loss: 0.4128 - accuracy: 0.8512 - val_loss: 1.2096 - val_accuracy: 0.6246\n",
            "Epoch 48/50\n",
            "448/448 [==============================] - 18s 40ms/step - loss: 0.4021 - accuracy: 0.8571 - val_loss: 1.2017 - val_accuracy: 0.6297\n",
            "Epoch 49/50\n",
            "448/448 [==============================] - 18s 40ms/step - loss: 0.3896 - accuracy: 0.8591 - val_loss: 1.1927 - val_accuracy: 0.6251\n",
            "Epoch 50/50\n",
            "448/448 [==============================] - 20s 45ms/step - loss: 0.3745 - accuracy: 0.8673 - val_loss: 1.1974 - val_accuracy: 0.6265\n"
          ]
        }
      ]
    },
    {
      "cell_type": "code",
      "source": [
        "# saving the model\n",
        "model_json = emotion_model.to_json()\n",
        "\n",
        "with open(\"emotion_model.json\",\"w\") as json_file:\n",
        "  json_file.write(model_json)"
      ],
      "metadata": {
        "id": "c8AcZl12nWQP"
      },
      "execution_count": null,
      "outputs": []
    },
    {
      "cell_type": "code",
      "source": [
        "# save trained model weights in .h5 file\n",
        "\n",
        "emotion_model.save_weights('emotion_model.h5')"
      ],
      "metadata": {
        "id": "T7GdSNxinnZ7"
      },
      "execution_count": null,
      "outputs": []
    },
    {
      "cell_type": "code",
      "source": [],
      "metadata": {
        "id": "U1lMZkO4nv7s"
      },
      "execution_count": null,
      "outputs": []
    }
  ]
}